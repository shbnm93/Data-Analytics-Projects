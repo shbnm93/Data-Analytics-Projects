{
 "cells": [
  {
   "cell_type": "code",
   "execution_count": 1,
   "id": "9f68e221",
   "metadata": {},
   "outputs": [],
   "source": [
    "import pandas as pd\n",
    "import numpy as np\n",
    "import matplotlib.pyplot as plt\n",
    "import seaborn as sns"
   ]
  },
  {
   "cell_type": "code",
   "execution_count": 2,
   "id": "a4f73bf5",
   "metadata": {},
   "outputs": [],
   "source": [
    "df = pd.read_csv(r\"C:\\Users\\Ali\\Desktop\\Data Analysis Projects\\turing\\covid_data.csv\")"
   ]
  },
  {
   "cell_type": "code",
   "execution_count": 3,
   "id": "dfe2c99c",
   "metadata": {},
   "outputs": [
    {
     "data": {
      "text/html": [
       "<div>\n",
       "<style scoped>\n",
       "    .dataframe tbody tr th:only-of-type {\n",
       "        vertical-align: middle;\n",
       "    }\n",
       "\n",
       "    .dataframe tbody tr th {\n",
       "        vertical-align: top;\n",
       "    }\n",
       "\n",
       "    .dataframe thead th {\n",
       "        text-align: right;\n",
       "    }\n",
       "</style>\n",
       "<table border=\"1\" class=\"dataframe\">\n",
       "  <thead>\n",
       "    <tr style=\"text-align: right;\">\n",
       "      <th></th>\n",
       "      <th>location</th>\n",
       "      <th>date</th>\n",
       "      <th>new_cases</th>\n",
       "      <th>new_deaths</th>\n",
       "      <th>population</th>\n",
       "      <th>aged_65_older_percent</th>\n",
       "      <th>gdp_per_capita</th>\n",
       "      <th>hospital_beds_per_thousand</th>\n",
       "    </tr>\n",
       "  </thead>\n",
       "  <tbody>\n",
       "    <tr>\n",
       "      <th>0</th>\n",
       "      <td>Afghanistan</td>\n",
       "      <td>2019-12-31</td>\n",
       "      <td>0</td>\n",
       "      <td>0</td>\n",
       "      <td>38928341.0</td>\n",
       "      <td>2.581</td>\n",
       "      <td>1803.987</td>\n",
       "      <td>0.5</td>\n",
       "    </tr>\n",
       "    <tr>\n",
       "      <th>1</th>\n",
       "      <td>Afghanistan</td>\n",
       "      <td>2020-01-01</td>\n",
       "      <td>0</td>\n",
       "      <td>0</td>\n",
       "      <td>38928341.0</td>\n",
       "      <td>2.581</td>\n",
       "      <td>1803.987</td>\n",
       "      <td>0.5</td>\n",
       "    </tr>\n",
       "    <tr>\n",
       "      <th>2</th>\n",
       "      <td>Afghanistan</td>\n",
       "      <td>2020-01-02</td>\n",
       "      <td>0</td>\n",
       "      <td>0</td>\n",
       "      <td>38928341.0</td>\n",
       "      <td>2.581</td>\n",
       "      <td>1803.987</td>\n",
       "      <td>0.5</td>\n",
       "    </tr>\n",
       "    <tr>\n",
       "      <th>3</th>\n",
       "      <td>Afghanistan</td>\n",
       "      <td>2020-01-03</td>\n",
       "      <td>0</td>\n",
       "      <td>0</td>\n",
       "      <td>38928341.0</td>\n",
       "      <td>2.581</td>\n",
       "      <td>1803.987</td>\n",
       "      <td>0.5</td>\n",
       "    </tr>\n",
       "    <tr>\n",
       "      <th>4</th>\n",
       "      <td>Afghanistan</td>\n",
       "      <td>2020-01-04</td>\n",
       "      <td>0</td>\n",
       "      <td>0</td>\n",
       "      <td>38928341.0</td>\n",
       "      <td>2.581</td>\n",
       "      <td>1803.987</td>\n",
       "      <td>0.5</td>\n",
       "    </tr>\n",
       "    <tr>\n",
       "      <th>5</th>\n",
       "      <td>Afghanistan</td>\n",
       "      <td>2020-01-05</td>\n",
       "      <td>0</td>\n",
       "      <td>0</td>\n",
       "      <td>38928341.0</td>\n",
       "      <td>2.581</td>\n",
       "      <td>1803.987</td>\n",
       "      <td>0.5</td>\n",
       "    </tr>\n",
       "    <tr>\n",
       "      <th>6</th>\n",
       "      <td>Afghanistan</td>\n",
       "      <td>2020-01-06</td>\n",
       "      <td>0</td>\n",
       "      <td>0</td>\n",
       "      <td>38928341.0</td>\n",
       "      <td>2.581</td>\n",
       "      <td>1803.987</td>\n",
       "      <td>0.5</td>\n",
       "    </tr>\n",
       "    <tr>\n",
       "      <th>7</th>\n",
       "      <td>Afghanistan</td>\n",
       "      <td>2020-01-07</td>\n",
       "      <td>0</td>\n",
       "      <td>0</td>\n",
       "      <td>38928341.0</td>\n",
       "      <td>2.581</td>\n",
       "      <td>1803.987</td>\n",
       "      <td>0.5</td>\n",
       "    </tr>\n",
       "    <tr>\n",
       "      <th>8</th>\n",
       "      <td>Afghanistan</td>\n",
       "      <td>2020-01-08</td>\n",
       "      <td>0</td>\n",
       "      <td>0</td>\n",
       "      <td>38928341.0</td>\n",
       "      <td>2.581</td>\n",
       "      <td>1803.987</td>\n",
       "      <td>0.5</td>\n",
       "    </tr>\n",
       "    <tr>\n",
       "      <th>9</th>\n",
       "      <td>Afghanistan</td>\n",
       "      <td>2020-01-09</td>\n",
       "      <td>0</td>\n",
       "      <td>0</td>\n",
       "      <td>38928341.0</td>\n",
       "      <td>2.581</td>\n",
       "      <td>1803.987</td>\n",
       "      <td>0.5</td>\n",
       "    </tr>\n",
       "  </tbody>\n",
       "</table>\n",
       "</div>"
      ],
      "text/plain": [
       "      location        date  new_cases  new_deaths  population  \\\n",
       "0  Afghanistan  2019-12-31          0           0  38928341.0   \n",
       "1  Afghanistan  2020-01-01          0           0  38928341.0   \n",
       "2  Afghanistan  2020-01-02          0           0  38928341.0   \n",
       "3  Afghanistan  2020-01-03          0           0  38928341.0   \n",
       "4  Afghanistan  2020-01-04          0           0  38928341.0   \n",
       "5  Afghanistan  2020-01-05          0           0  38928341.0   \n",
       "6  Afghanistan  2020-01-06          0           0  38928341.0   \n",
       "7  Afghanistan  2020-01-07          0           0  38928341.0   \n",
       "8  Afghanistan  2020-01-08          0           0  38928341.0   \n",
       "9  Afghanistan  2020-01-09          0           0  38928341.0   \n",
       "\n",
       "   aged_65_older_percent  gdp_per_capita  hospital_beds_per_thousand  \n",
       "0                  2.581        1803.987                         0.5  \n",
       "1                  2.581        1803.987                         0.5  \n",
       "2                  2.581        1803.987                         0.5  \n",
       "3                  2.581        1803.987                         0.5  \n",
       "4                  2.581        1803.987                         0.5  \n",
       "5                  2.581        1803.987                         0.5  \n",
       "6                  2.581        1803.987                         0.5  \n",
       "7                  2.581        1803.987                         0.5  \n",
       "8                  2.581        1803.987                         0.5  \n",
       "9                  2.581        1803.987                         0.5  "
      ]
     },
     "execution_count": 3,
     "metadata": {},
     "output_type": "execute_result"
    }
   ],
   "source": [
    "df.head(10)"
   ]
  },
  {
   "cell_type": "code",
   "execution_count": 4,
   "id": "63abf56e",
   "metadata": {},
   "outputs": [
    {
     "data": {
      "text/plain": [
       "(23082, 8)"
      ]
     },
     "execution_count": 4,
     "metadata": {},
     "output_type": "execute_result"
    }
   ],
   "source": [
    "df.shape"
   ]
  },
  {
   "cell_type": "code",
   "execution_count": 5,
   "id": "ddeb9f86",
   "metadata": {},
   "outputs": [
    {
     "data": {
      "text/plain": [
       "Index(['location', 'date', 'new_cases', 'new_deaths', 'population',\n",
       "       'aged_65_older_percent', 'gdp_per_capita',\n",
       "       'hospital_beds_per_thousand'],\n",
       "      dtype='object')"
      ]
     },
     "execution_count": 5,
     "metadata": {},
     "output_type": "execute_result"
    }
   ],
   "source": [
    "df.columns"
   ]
  },
  {
   "cell_type": "code",
   "execution_count": 6,
   "id": "e8cc87d3",
   "metadata": {},
   "outputs": [
    {
     "name": "stdout",
     "output_type": "stream",
     "text": [
      "<class 'pandas.core.frame.DataFrame'>\n",
      "RangeIndex: 23082 entries, 0 to 23081\n",
      "Data columns (total 8 columns):\n",
      " #   Column                      Non-Null Count  Dtype  \n",
      "---  ------                      --------------  -----  \n",
      " 0   location                    23082 non-null  object \n",
      " 1   date                        23082 non-null  object \n",
      " 2   new_cases                   23082 non-null  int64  \n",
      " 3   new_deaths                  23082 non-null  int64  \n",
      " 4   population                  23018 non-null  float64\n",
      " 5   aged_65_older_percent       20643 non-null  float64\n",
      " 6   gdp_per_capita              20711 non-null  float64\n",
      " 7   hospital_beds_per_thousand  19144 non-null  float64\n",
      "dtypes: float64(4), int64(2), object(2)\n",
      "memory usage: 1.4+ MB\n"
     ]
    }
   ],
   "source": [
    "df.info()"
   ]
  },
  {
   "cell_type": "code",
   "execution_count": 7,
   "id": "cb4c2e89",
   "metadata": {},
   "outputs": [
    {
     "data": {
      "text/plain": [
       "<bound method NDFrame.describe of             location        date  new_cases  new_deaths  population  \\\n",
       "0        Afghanistan  2019-12-31          0           0  38928341.0   \n",
       "1        Afghanistan  2020-01-01          0           0  38928341.0   \n",
       "2        Afghanistan  2020-01-02          0           0  38928341.0   \n",
       "3        Afghanistan  2020-01-03          0           0  38928341.0   \n",
       "4        Afghanistan  2020-01-04          0           0  38928341.0   \n",
       "...              ...         ...        ...         ...         ...   \n",
       "23077  International  2020-02-28          0           0         NaN   \n",
       "23078  International  2020-02-29          0           2         NaN   \n",
       "23079  International  2020-03-01          0           0         NaN   \n",
       "23080  International  2020-03-02          0           0         NaN   \n",
       "23081  International  2020-03-10         -9           1         NaN   \n",
       "\n",
       "       aged_65_older_percent  gdp_per_capita  hospital_beds_per_thousand  \n",
       "0                      2.581        1803.987                         0.5  \n",
       "1                      2.581        1803.987                         0.5  \n",
       "2                      2.581        1803.987                         0.5  \n",
       "3                      2.581        1803.987                         0.5  \n",
       "4                      2.581        1803.987                         0.5  \n",
       "...                      ...             ...                         ...  \n",
       "23077                    NaN             NaN                         NaN  \n",
       "23078                    NaN             NaN                         NaN  \n",
       "23079                    NaN             NaN                         NaN  \n",
       "23080                    NaN             NaN                         NaN  \n",
       "23081                    NaN             NaN                         NaN  \n",
       "\n",
       "[23082 rows x 8 columns]>"
      ]
     },
     "execution_count": 7,
     "metadata": {},
     "output_type": "execute_result"
    }
   ],
   "source": [
    "df.describe"
   ]
  },
  {
   "cell_type": "code",
   "execution_count": 8,
   "id": "15c6ad2e",
   "metadata": {},
   "outputs": [
    {
     "data": {
      "text/plain": [
       "location                       object\n",
       "date                           object\n",
       "new_cases                       int64\n",
       "new_deaths                      int64\n",
       "population                    float64\n",
       "aged_65_older_percent         float64\n",
       "gdp_per_capita                float64\n",
       "hospital_beds_per_thousand    float64\n",
       "dtype: object"
      ]
     },
     "execution_count": 8,
     "metadata": {},
     "output_type": "execute_result"
    }
   ],
   "source": [
    "df.dtypes"
   ]
  },
  {
   "cell_type": "code",
   "execution_count": 9,
   "id": "7050521f",
   "metadata": {},
   "outputs": [
    {
     "data": {
      "text/plain": [
       "location                         0\n",
       "date                             0\n",
       "new_cases                        0\n",
       "new_deaths                       0\n",
       "population                      64\n",
       "aged_65_older_percent         2439\n",
       "gdp_per_capita                2371\n",
       "hospital_beds_per_thousand    3938\n",
       "dtype: int64"
      ]
     },
     "execution_count": 9,
     "metadata": {},
     "output_type": "execute_result"
    }
   ],
   "source": [
    "df.isnull().sum()"
   ]
  },
  {
   "cell_type": "code",
   "execution_count": 10,
   "id": "417092c2",
   "metadata": {},
   "outputs": [
    {
     "data": {
      "text/plain": [
       "22708.38479088407"
      ]
     },
     "execution_count": 10,
     "metadata": {},
     "output_type": "execute_result"
    }
   ],
   "source": [
    "df['gdp_per_capita'].mean() # Average GDP per capita"
   ]
  },
  {
   "cell_type": "code",
   "execution_count": 11,
   "id": "816e9d27",
   "metadata": {},
   "outputs": [
    {
     "data": {
      "text/plain": [
       "'Monaco'"
      ]
     },
     "execution_count": 11,
     "metadata": {},
     "output_type": "execute_result"
    }
   ],
   "source": [
    "df.sort_values('hospital_beds_per_thousand', ascending=False).iloc[0]['location'] # Country with max hospital beds per thousand"
   ]
  },
  {
   "cell_type": "code",
   "execution_count": 12,
   "id": "a5d10883",
   "metadata": {},
   "outputs": [
    {
     "data": {
      "text/plain": [
       "14420924"
      ]
     },
     "execution_count": 12,
     "metadata": {},
     "output_type": "execute_result"
    }
   ],
   "source": [
    "df['new_cases'].sum() # Total worldwide cases "
   ]
  },
  {
   "cell_type": "code",
   "execution_count": 13,
   "id": "264e1b90",
   "metadata": {},
   "outputs": [
    {
     "data": {
      "text/plain": [
       "822390"
      ]
     },
     "execution_count": 13,
     "metadata": {},
     "output_type": "execute_result"
    }
   ],
   "source": [
    "df['new_deaths'].sum() # Total worldwide deaths"
   ]
  },
  {
   "cell_type": "code",
   "execution_count": 14,
   "id": "31595536",
   "metadata": {},
   "outputs": [
    {
     "data": {
      "text/plain": [
       "Text(0.5, 0, 'Date')"
      ]
     },
     "execution_count": 14,
     "metadata": {},
     "output_type": "execute_result"
    },
    {
     "data": {
      "image/png": "[encoded data removed]",
      "text/plain": [
       "<Figure size 640x480 with 1 Axes>"
      ]
     },
     "metadata": {},
     "output_type": "display_data"
    }
   ],
   "source": [
    "df.groupby('date')['new_cases'].sum().plot()\n",
    "plt.title(\"Worldwide COVID Cases Over Time\")\n",
    "plt.ylabel(\"Total Cases\")\n",
    "plt.xlabel(\"Date\")"
   ]
  },
  {
   "cell_type": "code",
   "execution_count": 15,
   "id": "5a50390d",
   "metadata": {},
   "outputs": [
    {
     "data": {
      "text/plain": [
       "<Axes: xlabel='location'>"
      ]
     },
     "execution_count": 15,
     "metadata": {},
     "output_type": "execute_result"
    },
    {
     "data": {
      "image/png": "[encoded data removed]",
      "text/plain": [
       "<Figure size 640x480 with 1 Axes>"
      ]
     },
     "metadata": {},
     "output_type": "display_data"
    }
   ],
   "source": [
    "# Hospital beds bar chart for top GDP countries\n",
    "top_gdp = df.sort_values('gdp_per_capita', ascending=False)['location'][:5] \n",
    "df[df['location'].isin(top_gdp)].plot.bar(x='location', y='hospital_beds_per_thousand')"
   ]
  },
  {
   "cell_type": "code",
   "execution_count": 16,
   "id": "f16d8dd7",
   "metadata": {},
   "outputs": [
    {
     "data": {
      "text/plain": [
       "Text(0, 0.5, 'COVID Deaths')"
      ]
     },
     "execution_count": 16,
     "metadata": {},
     "output_type": "execute_result"
    },
    {
     "data": {
      "image/png": "[encoded data removed]",
      "text/plain": [
       "<Figure size 640x480 with 1 Axes>"
      ]
     },
     "metadata": {},
     "output_type": "display_data"
    }
   ],
   "source": [
    "# Scatter plot of aged 65+ vs death rate \n",
    "df.plot.scatter(x='aged_65_older_percent', y='new_deaths') \n",
    "plt.xlabel(\"Aged 65+ Population Percentage\")  \n",
    "plt.ylabel(\"COVID Deaths\")"
   ]
  },
  {
   "cell_type": "code",
   "execution_count": 17,
   "id": "1ea904ed",
   "metadata": {},
   "outputs": [
    {
     "name": "stdout",
     "output_type": "stream",
     "text": [
      "The date when the difference first became more than 10,000 is: 2020-03-12\n"
     ]
    }
   ],
   "source": [
    "df_italy = df[df['location'] == 'Italy']\n",
    "df_germany = df[df['location'] == 'Germany']\n",
    "\n",
    "# Merge the Italy and Germany data on the 'date' column\n",
    "merged_df = pd.merge(df_italy[['date', 'new_cases']], df_germany[['date', 'new_cases']], on='date', suffixes=('_Italy', '_Germany'))\n",
    "\n",
    "# Calculate the cumulative difference in cases\n",
    "merged_df['cases_difference'] = merged_df['new_cases_Italy'].cumsum() - merged_df['new_cases_Germany'].cumsum()\n",
    "\n",
    "# Find the date when the difference is more than 10,000\n",
    "date_threshold = merged_df.loc[merged_df['cases_difference'] > 10000, 'date'].min()\n",
    "\n",
    "print(\"The date when the difference first became more than 10,000 is:\", date_threshold)"
   ]
  },
  {
   "cell_type": "code",
   "execution_count": 18,
   "id": "287a163e",
   "metadata": {},
   "outputs": [
    {
     "name": "stdout",
     "output_type": "stream",
     "text": [
      "The difference between the exponential curve and the total number of real cases on 2020-03-20 is: 30766\n"
     ]
    }
   ],
   "source": [
    "from scipy.optimize import curve_fit\n",
    "\n",
    "italy_data = df[(df['location'] == 'Italy') & (df['date'] >= '2020-02-28') & (df['date'] <= '2020-03-20')]\n",
    "\n",
    "# Extracting days and cumulative cases\n",
    "days = np.arange(1, len(italy_data) + 1)\n",
    "cumulative_cases = italy_data['new_cases'].cumsum()\n",
    "\n",
    "# Define the exponential function\n",
    "def exponential_function(x, A, B):\n",
    "    return A * np.exp(B * x)\n",
    "\n",
    "# Fit the exponential function to the data\n",
    "params, covariance = curve_fit(exponential_function, days, cumulative_cases)\n",
    "\n",
    "# Evaluate the fitted function on 2020-03-20\n",
    "days_since_start = (pd.to_datetime('2020-03-20') - pd.to_datetime('2020-02-28')).days\n",
    "predicted_cases_on_2020_03_20 = exponential_function(days_since_start, *params)\n",
    "\n",
    "# Actual number of cases on 2020-03-20\n",
    "actual_cases_on_2020_03_20 = italy_data[italy_data['date'] == '2020-03-20']['new_cases'].cumsum().values[0]\n",
    "\n",
    "# Calculate the difference\n",
    "difference = int(predicted_cases_on_2020_03_20 - actual_cases_on_2020_03_20)\n",
    "\n",
    "print(\"The difference between the exponential curve and the total number of real cases on 2020-03-20 is:\", difference)"
   ]
  },
  {
   "cell_type": "code",
   "execution_count": 19,
   "id": "713ff040",
   "metadata": {},
   "outputs": [
    {
     "name": "stdout",
     "output_type": "stream",
     "text": [
      "The country with the 3rd highest death rate is: Spain\n"
     ]
    }
   ],
   "source": [
    "df['death_rate'] = (df['new_deaths'].cumsum() / df['population']) * 1e6\n",
    "\n",
    "# Select data for the specified countries\n",
    "selected_countries = ['USA', 'Belgium', 'Italy', 'Andorra', 'Spain']\n",
    "country_death_rates = {}\n",
    "\n",
    "for country in selected_countries:\n",
    "    country_data = df[df['location'] == country]\n",
    "    total_deaths_per_million = country_data['death_rate'].max()  # Considering the latest date\n",
    "    country_death_rates[country] = total_deaths_per_million\n",
    "\n",
    "# Sort the countries by death rate and find the 3rd highest\n",
    "sorted_countries = sorted(country_death_rates.items(), key=lambda x: x[1], reverse=True)\n",
    "third_highest_country = sorted_countries[2][0]\n",
    "\n",
    "print(\"The country with the 3rd highest death rate is:\", third_highest_country)"
   ]
  },
  {
   "cell_type": "code",
   "execution_count": 21,
   "id": "16b03f34",
   "metadata": {},
   "outputs": [
    {
     "name": "stdout",
     "output_type": "stream",
     "text": [
      "The F1 score is: 0.0\n"
     ]
    }
   ],
   "source": [
    "from sklearn.metrics import f1_score\n",
    "\n",
    "conditions = (df['aged_65_older_percent'] > 20) & (df['death_rate'] > 50)\n",
    "\n",
    "# Apply conditions to get predicted outcomes\n",
    "predicted_outcomes = conditions.astype(int)\n",
    "\n",
    "# If you want to evaluate the F1 score without actual outcomes, create a dummy column\n",
    "df['actual_outcomes'] = 0  # Assuming 0 for all rows\n",
    "\n",
    "# Calculate F1 score\n",
    "f1 = f1_score(df['actual_outcomes'], predicted_outcomes)\n",
    "\n",
    "print(\"The F1 score is:\", f1)"
   ]
  },
  {
   "cell_type": "code",
   "execution_count": 22,
   "id": "777521db",
   "metadata": {},
   "outputs": [
    {
     "name": "stdout",
     "output_type": "stream",
     "text": [
      "The probability is: 85.65304372677907 %\n"
     ]
    }
   ],
   "source": [
    "conditions = (df['hospital_beds_per_thousand'] >= 5) & (df['gdp_per_capita'] > 10000)\n",
    "\n",
    "# Calculate the probability\n",
    "probability = (conditions.sum() / df[df['hospital_beds_per_thousand'] >= 5].shape[0]) * 100\n",
    "\n",
    "print(\"The probability is:\", probability, \"%\")"
   ]
  },
  {
   "cell_type": "code",
   "execution_count": null,
   "id": "43272e2c",
   "metadata": {},
   "outputs": [],
   "source": [
    " "
   ]
  }
 ],
 "metadata": {
  "kernelspec": {
   "display_name": "Python 3 (ipykernel)",
   "language": "python",
   "name": "python3"
  },
  "language_info": {
   "codemirror_mode": {
    "name": "ipython",
    "version": 3
   },
   "file_extension": ".py",
   "mimetype": "text/x-python",
   "name": "python",
   "nbconvert_exporter": "python",
   "pygments_lexer": "ipython3",
   "version": "3.11.5"
  }
 },
 "nbformat": 4,
 "nbformat_minor": 5
}
